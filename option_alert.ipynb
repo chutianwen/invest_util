{
 "cells": [
  {
   "cell_type": "markdown",
   "metadata": {},
   "source": [
    "# Checking option stats and alert\n",
    "\n",
    "Using webull to get option details like premium and greeks, then alert by email if needs investor attention. \n",
    "\n",
    "**How?** \\\n",
    "When option IV is high, usually good time to sell option for profit or hedge share positions. \\\n",
    "When sold option has delta too low or too high, usually indicate hedge power is too low or strong(affect profit), needs following rollover or strike price adjustment. \n",
    "\n",
    "\n",
    "**You need** \\\n",
    "* A dummy webull account, suggest not using the real account for trading(security...), signup using email, 1min work.\n",
    "* A dummy gmail account, you need to turn on less secruity at account page. Using dummy to avoid too many traffic to mess up your regular gmail account.  \n",
    "\n",
    "**Resources** \\\n",
    "* webull api: https://github.com/tedchou12/webull/blob/775f64632475999bd7ef3d06e19d4c8970b83c47/webull/webull.py#L74\n",
    "* email alert: https://realpython.com/python-send-email/\n",
    "\n",
    "**Daily usage mannual** \\\n",
    "* Run webull api, gmail setup each time you wanna start, (you need to pass 2-factor) \n",
    "* Update your option lists accordingly. \n",
    "* Sometimes you need to rerun the gmail setup to restart the connection if encountering email sending problem."
   ]
  },
  {
   "cell_type": "markdown",
   "metadata": {},
   "source": [
    "### Install webull api\n",
    "Sometimes, pip install in cmd not working (notebook cannot import), so we directly install from notebook"
   ]
  },
  {
   "cell_type": "code",
   "execution_count": null,
   "metadata": {},
   "outputs": [],
   "source": [
    "import sys"
   ]
  },
  {
   "cell_type": "code",
   "execution_count": null,
   "metadata": {
    "scrolled": true
   },
   "outputs": [],
   "source": [
    "# directly within Jupyter using the following command in a Jupyter cell\n",
    "# https://stackoverflow.com/questions/50939461/cant-import-the-installed-package-in-python3-environment-of-jupyter-notebook\n",
    "\n",
    "# first, add python to sys path\n",
    "# sys.path.append('C:\\\\Users\\\\chuti\\\\AppData\\\\Roaming\\\\Python\\\\Python37\\\\Scripts')\n",
    "\n",
    "# second, install \n",
    "# !{sys.executable} -m pip install webull "
   ]
  },
  {
   "cell_type": "markdown",
   "metadata": {},
   "source": [
    "### Setup webull api"
   ]
  },
  {
   "cell_type": "code",
   "execution_count": null,
   "metadata": {},
   "outputs": [],
   "source": [
    "from webull import webull \n",
    "# from webull import paper_webull"
   ]
  },
  {
   "cell_type": "code",
   "execution_count": null,
   "metadata": {},
   "outputs": [],
   "source": [
    "wb = webull()"
   ]
  },
  {
   "cell_type": "code",
   "execution_count": null,
   "metadata": {},
   "outputs": [],
   "source": [
    "WB_ACCOUNT = input(\"Type your webull account:\")\n",
    "WB_PSWD = input(\"Type your password and press enter:\")"
   ]
  },
  {
   "cell_type": "code",
   "execution_count": null,
   "metadata": {},
   "outputs": [],
   "source": [
    "# Get temporary code for next step\n",
    "wb.get_mfa(WB_ACCOUNT) "
   ]
  },
  {
   "cell_type": "code",
   "execution_count": null,
   "metadata": {
    "scrolled": true
   },
   "outputs": [],
   "source": [
    "# Use mfa in email from step above (replace the one shown here)\n",
    "login_info = wb.login(WB_ACCOUNT, WB_PSWD, mfa='845367')"
   ]
  },
  {
   "cell_type": "markdown",
   "metadata": {},
   "source": [
    "### Setup email for alerts"
   ]
  },
  {
   "cell_type": "code",
   "execution_count": null,
   "metadata": {},
   "outputs": [],
   "source": [
    "import smtplib, ssl\n",
    "\n",
    "SENDER_EMAIL = input(\"Type your gmail:\")\n",
    "RECEIVER_EMAIL = SENDER_EMAIL\n",
    "port = 587  # For starttls\n",
    "smtp_server = \"smtp.gmail.com\"\n",
    "password = input(\"Type your password and press enter:\")\n"
   ]
  },
  {
   "cell_type": "code",
   "execution_count": null,
   "metadata": {},
   "outputs": [],
   "source": [
    "context = ssl.create_default_context()\n",
    "server = smtplib.SMTP(smtp_server, port)\n",
    "server.ehlo()  # Can be omitted\n",
    "server.starttls(context=context)\n",
    "server.ehlo()  # Can be omitted\n",
    "server.login(SENDER_EMAIL, password)"
   ]
  },
  {
   "cell_type": "markdown",
   "metadata": {},
   "source": [
    "### Params and functions for alert logic"
   ]
  },
  {
   "cell_type": "code",
   "execution_count": null,
   "metadata": {},
   "outputs": [],
   "source": [
    "# Greeks\n",
    "DELTA = 'delta'\n",
    "THETA = 'theta'\n",
    "IV = 'impVol'\n",
    "\n",
    "THRESHOLD_DELTA_OTM = 0.3\n",
    "THRESHOLD_DELTA_ITM = 0.7\n",
    "\n",
    "THRESHOLD_IV_HIGH = 0.6\n",
    "THRESHOLD_IV_SUPER_HIGH = 1.5\n",
    "\n",
    "NO_ALERT = ''\n",
    "\n",
    "def delta_alert(cur):\n",
    "    # put option delta is negative, so use absolute value for checking\n",
    "    cur = abs(float(cur))\n",
    "    # otm is too deep\n",
    "    if cur < THRESHOLD_DELTA_OTM:\n",
    "        return \"!deep otm detected\"\n",
    "    # itm is too deep\n",
    "    if cur > THRESHOLD_DELTA_ITM:\n",
    "        return \"!deep itm detected\"\n",
    "    \n",
    "    return NO_ALERT\n",
    "\n",
    "def iv_alert(cur):\n",
    "    cur = float(cur)\n",
    "    if cur > THRESHOLD_IV_SUPER_HIGH:\n",
    "        return \"!super high IV detected\"\n",
    "    if cur > THRESHOLD_IV_HIGH:\n",
    "        return \"!high IV detected\"\n",
    "    \n",
    "    return NO_ALERT\n",
    "\n",
    "class option_greeks:\n",
    "    def __init__(self, delta, theta, iv):\n",
    "        self.delta = delta\n",
    "        self.theta = theta\n",
    "        self.iv = iv\n",
    "    \n",
    "    def to_string(self):\n",
    "        return f'delta:{self.delta}, theta:{self.theta}, iv:{self.iv}'"
   ]
  },
  {
   "cell_type": "code",
   "execution_count": null,
   "metadata": {},
   "outputs": [],
   "source": [
    "tests_delta = [(0.2, \"deep otm\"), (0.8, \"deep itm\"), (-0.8, \"deep itm\"), (0.4, \"normal\")]\n",
    "for test, expect in tests_delta:\n",
    "    print(f'result:{delta_alert(test)}, expected:{expect}')\n",
    "    \n",
    "tests_iv = [(0.3, 'normal'), (0.8, 'high iv'), (1.6, 'super high iv')]\n",
    "for test, expect in tests_iv:\n",
    "    print(f'result:{iv_alert(test)}, expected:{expect}')                                                 \n"
   ]
  },
  {
   "cell_type": "markdown",
   "metadata": {},
   "source": [
    "### Setup options you want to track"
   ]
  },
  {
   "cell_type": "code",
   "execution_count": null,
   "metadata": {},
   "outputs": [],
   "source": [
    "### Options to track\n",
    "OPTIONS = [\n",
    "#    ticker, expireDate, strike, direction, thresholds\n",
    "    ('TAL', '2021-07-16', '40', 'put'),\n",
    "    ('TAL', '2021-07-16', '15', 'call'),\n",
    "]"
   ]
  },
  {
   "cell_type": "code",
   "execution_count": null,
   "metadata": {},
   "outputs": [],
   "source": [
    "# example of response\n",
    "{'strikePrice': '40', 'call': {'volume': '0', 'latestPriceVol': '0'}, 'put': {'open': '18.51', 'high': '18.89', 'low': '18.51', 'strikePrice': '40', 'preClose': '14.90', 'openInterest': 874, 'volume': '3', 'latestPriceVol': '1', 'delta': '-0.9439', 'vega': '0.0046', 'impVol': '1.8787', 'gamma': '0.0149', 'theta': '-0.0329', 'rho': '-0.0139', 'close': '18.89', 'change': '3.99', 'changeRatio': '0.2678', 'expireDate': '2021-07-16', 'tickerId': 1020908652, 'belongTickerId': 913254311, 'openIntChange': 0, 'activeLevel': 8, 'weekly': 0, 'direction': 'put', 'derivativeStatus': 0, 'currencyId': 247, 'regionId': 6, 'exchangeId': 189, 'symbol': 'TAL210716P00040000', 'unSymbol': 'TAL', 'askList': [{'price': '18.80', 'volume': '143'}], 'bidList': [{'price': '18.40', 'volume': '69'}], 'quoteMultiplier': 100, 'quoteLotSize': 100, 'tradeTime': '2021-07-02T19:48:43.000+0000', 'tradeStamp': 1625255996000}}"
   ]
  },
  {
   "cell_type": "code",
   "execution_count": null,
   "metadata": {},
   "outputs": [],
   "source": [
    "def alert_messages_from_options(options):\n",
    "    '''\n",
    "    Job to alert options at each posting\n",
    "    '''\n",
    "    alert_messages = []\n",
    "    \n",
    "    for ticker, expireDate, strike, direction in options:\n",
    "        alert_message_builder = []\n",
    "\n",
    "        option_id = f'{ticker},{expireDate},strike:{strike},{direction}'\n",
    "        print(f'processing: {option_id}')\n",
    "\n",
    "        # parse option from response\n",
    "        option_details = wb.get_options_by_strike_and_expire_date(\n",
    "            stock=ticker,\n",
    "            expireDate=expireDate,\n",
    "            strike=strike,\n",
    "            direction=direction\n",
    "        )[0]\n",
    "\n",
    "        greeks = option_greeks(\n",
    "            delta=option_details[direction][DELTA],\n",
    "            theta=option_details[direction][THETA],\n",
    "            iv=option_details[direction][IV]\n",
    "        )\n",
    "\n",
    "        # alert logics\n",
    "        is_alert = False\n",
    "        causes = []\n",
    "\n",
    "        # check delta\n",
    "        delta_alert_msg = delta_alert(greeks.delta)\n",
    "        if delta_alert_msg:\n",
    "            is_alert = True\n",
    "            causes.append(delta_alert_msg)\n",
    "        \n",
    "        iv_alert_msg = iv_alert(greeks.iv)\n",
    "        if iv_alert_msg:\n",
    "            is_alert = True\n",
    "            causes.append(iv_alert_msg)\n",
    "\n",
    "        if is_alert:\n",
    "            alert_message_builder.append(option_id)\n",
    "            alert_message_builder.append(greeks.to_string())\n",
    "            alert_message_builder.append('\\t'.join(causes))\n",
    "            alert_messages.append('\\t'.join(alert_message_builder))\n",
    "            \n",
    "    return alert_messages"
   ]
  },
  {
   "cell_type": "code",
   "execution_count": null,
   "metadata": {},
   "outputs": [],
   "source": [
    "alert_messages = alert_messages_from_options(OPTIONS)"
   ]
  },
  {
   "cell_type": "code",
   "execution_count": null,
   "metadata": {},
   "outputs": [],
   "source": [
    "for message in alert_messages:\n",
    "    print(message)"
   ]
  },
  {
   "cell_type": "code",
   "execution_count": null,
   "metadata": {},
   "outputs": [],
   "source": [
    "from email.mime.text import MIMEText\n",
    "from email.mime.multipart import MIMEMultipart\n",
    "\n",
    "def alert_job(server, options):\n",
    "    \n",
    "    message = MIMEMultipart(\"alternative\")\n",
    "    message[\"Subject\"] = \"Options needs attention!\"\n",
    "    message[\"From\"] = SENDER_EMAIL\n",
    "    message[\"To\"] = RECEIVER_EMAIL\n",
    "\n",
    "    # Create the plain-text and HTML version of your message    \n",
    "    alert_messages = alert_messages_from_options(options)\n",
    "    text = '\\n\\n'.join(alert_messages)\n",
    "    \n",
    "    pretty_text = '<br>'.join(alert_messages)\n",
    "\n",
    "    html = f\"\"\"\\\n",
    "    <html>\n",
    "      <body>\n",
    "        <p>\n",
    "            {pretty_text}\n",
    "        </p>\n",
    "      </body>\n",
    "    </html>\n",
    "    \"\"\"\n",
    "\n",
    "    # Turn these into plain/html MIMEText objects\n",
    "    part1 = MIMEText(text, \"plain\")\n",
    "    part2 = MIMEText(html, \"html\")\n",
    "\n",
    "    # Add HTML/plain-text parts to MIMEMultipart message\n",
    "    # The email client will try to render the last part first\n",
    "    message.attach(part1)\n",
    "    message.attach(part2)\n",
    "\n",
    "    server.sendmail(SENDER_EMAIL, RECEIVER_EMAIL, message.as_string())"
   ]
  },
  {
   "cell_type": "code",
   "execution_count": null,
   "metadata": {},
   "outputs": [],
   "source": [
    "alert_job(server, OPTIONS)"
   ]
  },
  {
   "cell_type": "markdown",
   "metadata": {},
   "source": [
    "### Sechdule the job\n",
    "https://stackoverflow.com/questions/22715086/scheduling-python-script-to-run-every-hour-accurately"
   ]
  },
  {
   "cell_type": "code",
   "execution_count": null,
   "metadata": {},
   "outputs": [],
   "source": [
    "# install package if not exist\n",
    "# !{sys.executable} -m pip install apscheduler"
   ]
  },
  {
   "cell_type": "code",
   "execution_count": null,
   "metadata": {},
   "outputs": [],
   "source": [
    "from apscheduler.schedulers.blocking import BlockingScheduler\n",
    "\n",
    "sched = BlockingScheduler()\n",
    "interval = 60\n",
    "\n",
    "@sched.scheduled_job('interval', seconds=interval)\n",
    "def timed_job():\n",
    "    print('fThis job is run every {interval} seconds.')\n",
    "    alert_job(server, OPTIONS)\n",
    "    \n",
    "sched.start()"
   ]
  },
  {
   "cell_type": "code",
   "execution_count": null,
   "metadata": {},
   "outputs": [],
   "source": []
  }
 ],
 "metadata": {
  "kernelspec": {
   "display_name": "Python 3",
   "language": "python",
   "name": "python3"
  },
  "language_info": {
   "codemirror_mode": {
    "name": "ipython",
    "version": 3
   },
   "file_extension": ".py",
   "mimetype": "text/x-python",
   "name": "python",
   "nbconvert_exporter": "python",
   "pygments_lexer": "ipython3",
   "version": "3.7.4"
  }
 },
 "nbformat": 4,
 "nbformat_minor": 2
}
