{
 "cells": [
  {
   "cell_type": "markdown",
   "metadata": {},
   "source": [
    "# Checking option greeks and alert\n",
    "\n",
    "Using webull to get option greeks, then alert by email if greeks exceeding threshold. \n",
    "\n",
    "* webull api: https://github.com/tedchou12/webull/blob/775f64632475999bd7ef3d06e19d4c8970b83c47/webull/webull.py#L74\n",
    "* email alert: https://realpython.com/python-send-email/\n",
    "\n",
    "You need\n",
    "* A dummy webull account, suggest not using the real account for trading(security...), signup using email, 1min work.\n",
    "* A dummy gmail account, you need to turn on less secruity at account page. Using dummy to avoid too many traffic to mess up your regular gmail account.  "
   ]
  },
  {
   "cell_type": "markdown",
   "metadata": {},
   "source": [
    "### Install webull api\n",
    "Sometimes, pip install in cmd not working (notebook cannot import), so we directly install from notebook"
   ]
  },
  {
   "cell_type": "code",
   "execution_count": 2,
   "metadata": {},
   "outputs": [],
   "source": [
    "import sys"
   ]
  },
  {
   "cell_type": "code",
   "execution_count": 3,
   "metadata": {
    "scrolled": true
   },
   "outputs": [],
   "source": [
    "# directly within Jupyter using the following command in a Jupyter cell\n",
    "# https://stackoverflow.com/questions/50939461/cant-import-the-installed-package-in-python3-environment-of-jupyter-notebook\n",
    "\n",
    "# add path\n",
    "# sys.path.append('C:\\\\Users\\\\chuti\\\\AppData\\\\Roaming\\\\Python\\\\Python37\\\\Scripts')\n",
    "# !{sys.executable} -m pip install webull "
   ]
  },
  {
   "cell_type": "markdown",
   "metadata": {},
   "source": [
    "### Setup webull api"
   ]
  },
  {
   "cell_type": "code",
   "execution_count": 4,
   "metadata": {},
   "outputs": [],
   "source": [
    "from webull import webull \n",
    "# from webull import paper_webull"
   ]
  },
  {
   "cell_type": "code",
   "execution_count": 5,
   "metadata": {},
   "outputs": [],
   "source": [
    "wb = webull()"
   ]
  },
  {
   "cell_type": "code",
   "execution_count": 6,
   "metadata": {},
   "outputs": [
    {
     "name": "stdout",
     "output_type": "stream",
     "text": [
      "Type your webull account:handongming1234@gmail.com\n",
      "Type your password and press enter:123no1234!\n"
     ]
    }
   ],
   "source": [
    "WB_ACCOUNT = input(\"Type your webull account:\")\n",
    "WB_PSWD = input(\"Type your password and press enter:\")"
   ]
  },
  {
   "cell_type": "code",
   "execution_count": 7,
   "metadata": {},
   "outputs": [
    {
     "data": {
      "text/plain": [
       "True"
      ]
     },
     "execution_count": 7,
     "metadata": {},
     "output_type": "execute_result"
    }
   ],
   "source": [
    "# Get temporary code for next step\n",
    "wb.get_mfa(WB_ACCOUNT) "
   ]
  },
  {
   "cell_type": "code",
   "execution_count": 8,
   "metadata": {
    "scrolled": true
   },
   "outputs": [],
   "source": [
    "# Use mfa in email from step above\n",
    "login_info = wb.login(WB_ACCOUNT, WB_PSWD, mfa='954123')"
   ]
  },
  {
   "cell_type": "markdown",
   "metadata": {},
   "source": [
    "### Setup email for alerts"
   ]
  },
  {
   "cell_type": "code",
   "execution_count": 11,
   "metadata": {},
   "outputs": [
    {
     "name": "stdout",
     "output_type": "stream",
     "text": [
      "Type your gmail:handongming1234@gmail.com\n",
      "Type your password and press enter:123no1234!\n"
     ]
    },
    {
     "data": {
      "text/plain": [
       "(235, b'2.7.0 Accepted')"
      ]
     },
     "execution_count": 11,
     "metadata": {},
     "output_type": "execute_result"
    }
   ],
   "source": [
    "import smtplib, ssl\n",
    "\n",
    "port = 587  # For starttls\n",
    "smtp_server = \"smtp.gmail.com\"\n",
    "SENDER_EMAIL = input(\"Type your gmail:\")\n",
    "RECEIVER_EMAIL = SENDER_EMAIL\n",
    "password = input(\"Type your password and press enter:\")\n",
    "\n",
    "context = ssl.create_default_context()\n",
    "server = smtplib.SMTP(smtp_server, port)\n",
    "server.ehlo()  # Can be omitted\n",
    "server.starttls(context=context)\n",
    "server.ehlo()  # Can be omitted\n",
    "server.login(SENDER_EMAIL, password)\n",
    "\n",
    "# server.sendmail(sender_email, receiver_email, 'hi')"
   ]
  },
  {
   "cell_type": "markdown",
   "metadata": {},
   "source": [
    "### Params and functions for alert logic"
   ]
  },
  {
   "cell_type": "code",
   "execution_count": 12,
   "metadata": {},
   "outputs": [],
   "source": [
    "DELTA = 'delta'\n",
    "THETA = 'theta'\n",
    "IV = 'impVol'\n",
    "\n",
    "THRESHOLD_DELTA_OTM = 0.3\n",
    "THRESHOLD_DELTA_ITM = 0.7\n",
    "\n",
    "def delta_alert(cur):\n",
    "    # put option delta is negative, so use absolute value for checking\n",
    "    cur = abs(float(cur))\n",
    "    # otm is too deep\n",
    "    if cur < THRESHOLD_DELTA_OTM:\n",
    "        return \"!deep otm detected\"\n",
    "    # itm is too deep\n",
    "    if cur > THRESHOLD_DELTA_ITM:\n",
    "        return \"!deep itm detected\"\n",
    "    \n",
    "    return \"\"\n",
    "\n",
    "class option_greeks:\n",
    "    def __init__(self, delta, theta, iv):\n",
    "        self.delta = delta\n",
    "        self.theta = theta\n",
    "        self.iv = iv\n",
    "    \n",
    "    def to_string(self):\n",
    "        return f'delta:{self.delta}, theta:{self.theta}, iv:{self.iv}'"
   ]
  },
  {
   "cell_type": "markdown",
   "metadata": {},
   "source": [
    "### Setup options you want to track"
   ]
  },
  {
   "cell_type": "code",
   "execution_count": 13,
   "metadata": {},
   "outputs": [],
   "source": [
    "### Options to track\n",
    "OPTIONS = [\n",
    "#    ticker, expireDate, strike, direction, thresholds\n",
    "    ('TAL', '2021-07-16', '40', 'put'),\n",
    "    ('TAL', '2021-07-16', '15', 'call'),\n",
    "]"
   ]
  },
  {
   "cell_type": "code",
   "execution_count": 14,
   "metadata": {},
   "outputs": [
    {
     "data": {
      "text/plain": [
       "{'strikePrice': '40',\n",
       " 'call': {'volume': '0', 'latestPriceVol': '0'},\n",
       " 'put': {'open': '18.51',\n",
       "  'high': '18.89',\n",
       "  'low': '18.51',\n",
       "  'strikePrice': '40',\n",
       "  'preClose': '14.90',\n",
       "  'openInterest': 874,\n",
       "  'volume': '3',\n",
       "  'latestPriceVol': '1',\n",
       "  'delta': '-0.9439',\n",
       "  'vega': '0.0046',\n",
       "  'impVol': '1.8787',\n",
       "  'gamma': '0.0149',\n",
       "  'theta': '-0.0329',\n",
       "  'rho': '-0.0139',\n",
       "  'close': '18.89',\n",
       "  'change': '3.99',\n",
       "  'changeRatio': '0.2678',\n",
       "  'expireDate': '2021-07-16',\n",
       "  'tickerId': 1020908652,\n",
       "  'belongTickerId': 913254311,\n",
       "  'openIntChange': 0,\n",
       "  'activeLevel': 8,\n",
       "  'weekly': 0,\n",
       "  'direction': 'put',\n",
       "  'derivativeStatus': 0,\n",
       "  'currencyId': 247,\n",
       "  'regionId': 6,\n",
       "  'exchangeId': 189,\n",
       "  'symbol': 'TAL210716P00040000',\n",
       "  'unSymbol': 'TAL',\n",
       "  'askList': [{'price': '18.80', 'volume': '143'}],\n",
       "  'bidList': [{'price': '18.40', 'volume': '69'}],\n",
       "  'quoteMultiplier': 100,\n",
       "  'quoteLotSize': 100,\n",
       "  'tradeTime': '2021-07-02T19:48:43.000+0000',\n",
       "  'tradeStamp': 1625255996000}}"
      ]
     },
     "execution_count": 14,
     "metadata": {},
     "output_type": "execute_result"
    }
   ],
   "source": [
    "# example of response\n",
    "{'strikePrice': '40', 'call': {'volume': '0', 'latestPriceVol': '0'}, 'put': {'open': '18.51', 'high': '18.89', 'low': '18.51', 'strikePrice': '40', 'preClose': '14.90', 'openInterest': 874, 'volume': '3', 'latestPriceVol': '1', 'delta': '-0.9439', 'vega': '0.0046', 'impVol': '1.8787', 'gamma': '0.0149', 'theta': '-0.0329', 'rho': '-0.0139', 'close': '18.89', 'change': '3.99', 'changeRatio': '0.2678', 'expireDate': '2021-07-16', 'tickerId': 1020908652, 'belongTickerId': 913254311, 'openIntChange': 0, 'activeLevel': 8, 'weekly': 0, 'direction': 'put', 'derivativeStatus': 0, 'currencyId': 247, 'regionId': 6, 'exchangeId': 189, 'symbol': 'TAL210716P00040000', 'unSymbol': 'TAL', 'askList': [{'price': '18.80', 'volume': '143'}], 'bidList': [{'price': '18.40', 'volume': '69'}], 'quoteMultiplier': 100, 'quoteLotSize': 100, 'tradeTime': '2021-07-02T19:48:43.000+0000', 'tradeStamp': 1625255996000}}"
   ]
  },
  {
   "cell_type": "code",
   "execution_count": 15,
   "metadata": {},
   "outputs": [],
   "source": [
    "def alert_option_message(options):\n",
    "    '''\n",
    "    Job to alert options at each posting\n",
    "    '''\n",
    "    alert_messages = []\n",
    "    for ticker, expireDate, strike, direction in options:\n",
    "        logs = []\n",
    "        # option name\n",
    "        log_option_id = f'{ticker},{expireDate},strike:{strike},{direction}'\n",
    "        print(f'processing: {log_option_id}')\n",
    "\n",
    "        # parse option from response\n",
    "        option_details = wb.get_options_by_strike_and_expire_date(\n",
    "            stock=ticker,\n",
    "            expireDate=expireDate,\n",
    "            strike=strike,\n",
    "            direction=direction\n",
    "        )[0]\n",
    "\n",
    "        greeks = option_greeks(\n",
    "            delta=option_details[direction][DELTA],\n",
    "            theta=option_details[direction][THETA],\n",
    "            iv=option_details[direction][IV]\n",
    "        )\n",
    "\n",
    "        # check if alert\n",
    "        is_alert = False\n",
    "        causes = []\n",
    "\n",
    "        # check delta\n",
    "        delta_alert_msg = delta_alert(greeks.delta)\n",
    "        if delta_alert_msg:\n",
    "            is_alert = True\n",
    "            causes.append(delta_alert_msg)\n",
    "\n",
    "        if is_alert:\n",
    "            logs.append(log_option_id)\n",
    "            logs.append(greeks.to_string())\n",
    "            logs.append('\\n'.join(causes))\n",
    "            alert_messages.append('\\n'.join(logs))\n",
    "            \n",
    "    return '\\n\\n'.join(alert_messages)"
   ]
  },
  {
   "cell_type": "code",
   "execution_count": 16,
   "metadata": {},
   "outputs": [
    {
     "name": "stdout",
     "output_type": "stream",
     "text": [
      "processing: TAL,2021-07-16,strike:40,put\n",
      "processing: TAL,2021-07-16,strike:15,call\n"
     ]
    }
   ],
   "source": [
    "message = alert_option_message(OPTIONS)"
   ]
  },
  {
   "cell_type": "code",
   "execution_count": 17,
   "metadata": {},
   "outputs": [
    {
     "name": "stdout",
     "output_type": "stream",
     "text": [
      "TAL,2021-07-16,strike:40,put\n",
      "delta:-0.9439, theta:-0.0329, iv:1.8787\n",
      "!deep itm detected\n",
      "\n",
      "TAL,2021-07-16,strike:15,call\n",
      "delta:0.8843, theta:-0.0556, iv:1.8375\n",
      "!deep itm detected\n"
     ]
    }
   ],
   "source": [
    "print(message)"
   ]
  },
  {
   "cell_type": "code",
   "execution_count": 18,
   "metadata": {},
   "outputs": [],
   "source": [
    "def alert_job(server, options):\n",
    "    alert_message = alert_option_message(options)\n",
    "    \n",
    "    if alert_message:\n",
    "        message = f\"\"\"\\\n",
    "Subject: Option alerts!\n",
    "\n",
    "{alert_message}\"\"\"\n",
    "        server.sendmail(SENDER_EMAIL, RECEIVER_EMAIL, message)"
   ]
  },
  {
   "cell_type": "code",
   "execution_count": 19,
   "metadata": {},
   "outputs": [
    {
     "name": "stdout",
     "output_type": "stream",
     "text": [
      "processing: TAL,2021-07-16,strike:40,put\n",
      "processing: TAL,2021-07-16,strike:15,call\n"
     ]
    }
   ],
   "source": [
    "alert_job(server, OPTIONS)"
   ]
  },
  {
   "cell_type": "markdown",
   "metadata": {},
   "source": [
    "### Sechdule the job\n",
    "https://stackoverflow.com/questions/22715086/scheduling-python-script-to-run-every-hour-accurately"
   ]
  },
  {
   "cell_type": "code",
   "execution_count": 20,
   "metadata": {},
   "outputs": [],
   "source": [
    "# install package if not exist\n",
    "# !{sys.executable} -m pip install apscheduler"
   ]
  },
  {
   "cell_type": "code",
   "execution_count": 21,
   "metadata": {},
   "outputs": [
    {
     "name": "stdout",
     "output_type": "stream",
     "text": [
      "This job is run every 10 seconds.\n",
      "processing: TAL,2021-07-16,strike:40,put\n",
      "processing: TAL,2021-07-16,strike:15,call\n",
      "This job is run every 10 seconds.\n",
      "processing: TAL,2021-07-16,strike:40,put\n",
      "processing: TAL,2021-07-16,strike:15,call\n",
      "This job is run every 10 seconds.\n",
      "processing: TAL,2021-07-16,strike:40,put\n",
      "processing: TAL,2021-07-16,strike:15,call\n",
      "This job is run every 10 seconds.\n",
      "processing: TAL,2021-07-16,strike:40,put\n",
      "processing: TAL,2021-07-16,strike:15,call\n"
     ]
    },
    {
     "ename": "KeyboardInterrupt",
     "evalue": "",
     "output_type": "error",
     "traceback": [
      "\u001b[1;31m---------------------------------------------------------------------------\u001b[0m",
      "\u001b[1;31mKeyboardInterrupt\u001b[0m                         Traceback (most recent call last)",
      "\u001b[1;32m<ipython-input-21-f92ffd73d02a>\u001b[0m in \u001b[0;36m<module>\u001b[1;34m\u001b[0m\n\u001b[0;32m     13\u001b[0m \u001b[1;33m\u001b[0m\u001b[0m\n\u001b[0;32m     14\u001b[0m \u001b[1;31m# sched.configure(options_from_ini_file)\u001b[0m\u001b[1;33m\u001b[0m\u001b[1;33m\u001b[0m\u001b[1;33m\u001b[0m\u001b[0m\n\u001b[1;32m---> 15\u001b[1;33m \u001b[0msched\u001b[0m\u001b[1;33m.\u001b[0m\u001b[0mstart\u001b[0m\u001b[1;33m(\u001b[0m\u001b[1;33m)\u001b[0m\u001b[1;33m\u001b[0m\u001b[1;33m\u001b[0m\u001b[0m\n\u001b[0m",
      "\u001b[1;32mC:\\ProgramData\\Anaconda3\\lib\\site-packages\\apscheduler\\schedulers\\blocking.py\u001b[0m in \u001b[0;36mstart\u001b[1;34m(self, *args, **kwargs)\u001b[0m\n\u001b[0;32m     19\u001b[0m \u001b[1;33m\u001b[0m\u001b[0m\n\u001b[0;32m     20\u001b[0m         \u001b[0msuper\u001b[0m\u001b[1;33m(\u001b[0m\u001b[0mBlockingScheduler\u001b[0m\u001b[1;33m,\u001b[0m \u001b[0mself\u001b[0m\u001b[1;33m)\u001b[0m\u001b[1;33m.\u001b[0m\u001b[0mstart\u001b[0m\u001b[1;33m(\u001b[0m\u001b[1;33m*\u001b[0m\u001b[0margs\u001b[0m\u001b[1;33m,\u001b[0m \u001b[1;33m**\u001b[0m\u001b[0mkwargs\u001b[0m\u001b[1;33m)\u001b[0m\u001b[1;33m\u001b[0m\u001b[1;33m\u001b[0m\u001b[0m\n\u001b[1;32m---> 21\u001b[1;33m         \u001b[0mself\u001b[0m\u001b[1;33m.\u001b[0m\u001b[0m_main_loop\u001b[0m\u001b[1;33m(\u001b[0m\u001b[1;33m)\u001b[0m\u001b[1;33m\u001b[0m\u001b[1;33m\u001b[0m\u001b[0m\n\u001b[0m\u001b[0;32m     22\u001b[0m \u001b[1;33m\u001b[0m\u001b[0m\n\u001b[0;32m     23\u001b[0m     \u001b[1;32mdef\u001b[0m \u001b[0mshutdown\u001b[0m\u001b[1;33m(\u001b[0m\u001b[0mself\u001b[0m\u001b[1;33m,\u001b[0m \u001b[0mwait\u001b[0m\u001b[1;33m=\u001b[0m\u001b[1;32mTrue\u001b[0m\u001b[1;33m)\u001b[0m\u001b[1;33m:\u001b[0m\u001b[1;33m\u001b[0m\u001b[1;33m\u001b[0m\u001b[0m\n",
      "\u001b[1;32mC:\\ProgramData\\Anaconda3\\lib\\site-packages\\apscheduler\\schedulers\\blocking.py\u001b[0m in \u001b[0;36m_main_loop\u001b[1;34m(self)\u001b[0m\n\u001b[0;32m     28\u001b[0m         \u001b[0mwait_seconds\u001b[0m \u001b[1;33m=\u001b[0m \u001b[0mTIMEOUT_MAX\u001b[0m\u001b[1;33m\u001b[0m\u001b[1;33m\u001b[0m\u001b[0m\n\u001b[0;32m     29\u001b[0m         \u001b[1;32mwhile\u001b[0m \u001b[0mself\u001b[0m\u001b[1;33m.\u001b[0m\u001b[0mstate\u001b[0m \u001b[1;33m!=\u001b[0m \u001b[0mSTATE_STOPPED\u001b[0m\u001b[1;33m:\u001b[0m\u001b[1;33m\u001b[0m\u001b[1;33m\u001b[0m\u001b[0m\n\u001b[1;32m---> 30\u001b[1;33m             \u001b[0mself\u001b[0m\u001b[1;33m.\u001b[0m\u001b[0m_event\u001b[0m\u001b[1;33m.\u001b[0m\u001b[0mwait\u001b[0m\u001b[1;33m(\u001b[0m\u001b[0mwait_seconds\u001b[0m\u001b[1;33m)\u001b[0m\u001b[1;33m\u001b[0m\u001b[1;33m\u001b[0m\u001b[0m\n\u001b[0m\u001b[0;32m     31\u001b[0m             \u001b[0mself\u001b[0m\u001b[1;33m.\u001b[0m\u001b[0m_event\u001b[0m\u001b[1;33m.\u001b[0m\u001b[0mclear\u001b[0m\u001b[1;33m(\u001b[0m\u001b[1;33m)\u001b[0m\u001b[1;33m\u001b[0m\u001b[1;33m\u001b[0m\u001b[0m\n\u001b[0;32m     32\u001b[0m             \u001b[0mwait_seconds\u001b[0m \u001b[1;33m=\u001b[0m \u001b[0mself\u001b[0m\u001b[1;33m.\u001b[0m\u001b[0m_process_jobs\u001b[0m\u001b[1;33m(\u001b[0m\u001b[1;33m)\u001b[0m\u001b[1;33m\u001b[0m\u001b[1;33m\u001b[0m\u001b[0m\n",
      "\u001b[1;32mC:\\ProgramData\\Anaconda3\\lib\\threading.py\u001b[0m in \u001b[0;36mwait\u001b[1;34m(self, timeout)\u001b[0m\n\u001b[0;32m    550\u001b[0m             \u001b[0msignaled\u001b[0m \u001b[1;33m=\u001b[0m \u001b[0mself\u001b[0m\u001b[1;33m.\u001b[0m\u001b[0m_flag\u001b[0m\u001b[1;33m\u001b[0m\u001b[1;33m\u001b[0m\u001b[0m\n\u001b[0;32m    551\u001b[0m             \u001b[1;32mif\u001b[0m \u001b[1;32mnot\u001b[0m \u001b[0msignaled\u001b[0m\u001b[1;33m:\u001b[0m\u001b[1;33m\u001b[0m\u001b[1;33m\u001b[0m\u001b[0m\n\u001b[1;32m--> 552\u001b[1;33m                 \u001b[0msignaled\u001b[0m \u001b[1;33m=\u001b[0m \u001b[0mself\u001b[0m\u001b[1;33m.\u001b[0m\u001b[0m_cond\u001b[0m\u001b[1;33m.\u001b[0m\u001b[0mwait\u001b[0m\u001b[1;33m(\u001b[0m\u001b[0mtimeout\u001b[0m\u001b[1;33m)\u001b[0m\u001b[1;33m\u001b[0m\u001b[1;33m\u001b[0m\u001b[0m\n\u001b[0m\u001b[0;32m    553\u001b[0m             \u001b[1;32mreturn\u001b[0m \u001b[0msignaled\u001b[0m\u001b[1;33m\u001b[0m\u001b[1;33m\u001b[0m\u001b[0m\n\u001b[0;32m    554\u001b[0m \u001b[1;33m\u001b[0m\u001b[0m\n",
      "\u001b[1;32mC:\\ProgramData\\Anaconda3\\lib\\threading.py\u001b[0m in \u001b[0;36mwait\u001b[1;34m(self, timeout)\u001b[0m\n\u001b[0;32m    298\u001b[0m             \u001b[1;32melse\u001b[0m\u001b[1;33m:\u001b[0m\u001b[1;33m\u001b[0m\u001b[1;33m\u001b[0m\u001b[0m\n\u001b[0;32m    299\u001b[0m                 \u001b[1;32mif\u001b[0m \u001b[0mtimeout\u001b[0m \u001b[1;33m>\u001b[0m \u001b[1;36m0\u001b[0m\u001b[1;33m:\u001b[0m\u001b[1;33m\u001b[0m\u001b[1;33m\u001b[0m\u001b[0m\n\u001b[1;32m--> 300\u001b[1;33m                     \u001b[0mgotit\u001b[0m \u001b[1;33m=\u001b[0m \u001b[0mwaiter\u001b[0m\u001b[1;33m.\u001b[0m\u001b[0macquire\u001b[0m\u001b[1;33m(\u001b[0m\u001b[1;32mTrue\u001b[0m\u001b[1;33m,\u001b[0m \u001b[0mtimeout\u001b[0m\u001b[1;33m)\u001b[0m\u001b[1;33m\u001b[0m\u001b[1;33m\u001b[0m\u001b[0m\n\u001b[0m\u001b[0;32m    301\u001b[0m                 \u001b[1;32melse\u001b[0m\u001b[1;33m:\u001b[0m\u001b[1;33m\u001b[0m\u001b[1;33m\u001b[0m\u001b[0m\n\u001b[0;32m    302\u001b[0m                     \u001b[0mgotit\u001b[0m \u001b[1;33m=\u001b[0m \u001b[0mwaiter\u001b[0m\u001b[1;33m.\u001b[0m\u001b[0macquire\u001b[0m\u001b[1;33m(\u001b[0m\u001b[1;32mFalse\u001b[0m\u001b[1;33m)\u001b[0m\u001b[1;33m\u001b[0m\u001b[1;33m\u001b[0m\u001b[0m\n",
      "\u001b[1;31mKeyboardInterrupt\u001b[0m: "
     ]
    }
   ],
   "source": [
    "from apscheduler.schedulers.blocking import BlockingScheduler\n",
    "\n",
    "sched = BlockingScheduler()\n",
    "\n",
    "@sched.scheduled_job('interval', seconds=10)\n",
    "def timed_job():\n",
    "    print('This job is run every 10 seconds.')\n",
    "    alert_job(server, OPTIONS)\n",
    "    \n",
    "# @sched.scheduled_job('cron', day_of_week='mon-fri', hour=10)\n",
    "# def scheduled_job():\n",
    "#     print('This job is run every weekday at 10am.')\n",
    "\n",
    "# sched.configure(options_from_ini_file)\n",
    "sched.start()"
   ]
  },
  {
   "cell_type": "code",
   "execution_count": null,
   "metadata": {},
   "outputs": [],
   "source": []
  }
 ],
 "metadata": {
  "kernelspec": {
   "display_name": "Python 3",
   "language": "python",
   "name": "python3"
  },
  "language_info": {
   "codemirror_mode": {
    "name": "ipython",
    "version": 3
   },
   "file_extension": ".py",
   "mimetype": "text/x-python",
   "name": "python",
   "nbconvert_exporter": "python",
   "pygments_lexer": "ipython3",
   "version": "3.7.4"
  }
 },
 "nbformat": 4,
 "nbformat_minor": 2
}
